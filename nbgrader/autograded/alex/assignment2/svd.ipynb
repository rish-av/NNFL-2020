{
 "cells": [
  {
   "cell_type": "code",
   "execution_count": 1,
   "metadata": {
    "deletable": false,
    "editable": false,
    "nbgrader": {
     "cell_type": "code",
     "checksum": "2eabe18324cf08afa0cddbb3d074ec7e",
     "grade": false,
     "grade_id": "cell-439024970cf328e8",
     "locked": true,
     "schema_version": 3,
     "solution": false,
     "task": false
    }
   },
   "outputs": [],
   "source": [
    "%matplotlib inline\n",
    "import numpy as np\n",
    "import pandas as pd\n",
    "import matplotlib.pyplot as plt\n",
    "import seaborn as sns\n",
    "from PIL import Image"
   ]
  },
  {
   "cell_type": "code",
   "execution_count": 2,
   "metadata": {
    "deletable": false,
    "editable": false,
    "nbgrader": {
     "cell_type": "code",
     "checksum": "8f7769a2c68d58cb695c2b82e4044932",
     "grade": false,
     "grade_id": "cell-3ae313bac676cd23",
     "locked": true,
     "schema_version": 3,
     "solution": false,
     "task": false
    }
   },
   "outputs": [
    {
     "name": "stdout",
     "output_type": "stream",
     "text": [
      "Populating the interactive namespace from numpy and matplotlib\n"
     ]
    }
   ],
   "source": [
    "# Plot style\n",
    "sns.set()\n",
    "%pylab inline\n",
    "pylab.rcParams['figure.figsize'] = (4, 4)\n",
    "# Avoid inaccurate floating values (for inverse matrices in dot product for instance)\n",
    "# See https://stackoverflow.com/questions/24537791/numpy-matrix-inversion-rounding-errors\n",
    "np.set_printoptions(suppress=True)"
   ]
  },
  {
   "cell_type": "code",
   "execution_count": 3,
   "metadata": {
    "deletable": false,
    "editable": false,
    "nbgrader": {
     "cell_type": "code",
     "checksum": "f4d417e0acfafab3afb5dfe613c6c6c7",
     "grade": false,
     "grade_id": "cell-bca79e515a5d4fee",
     "locked": true,
     "schema_version": 3,
     "solution": false,
     "task": false
    }
   },
   "outputs": [
    {
     "data": {
      "application/javascript": [
       "IPython.OutputArea.prototype._should_scroll = function(lines) {\n",
       "    return false;\n",
       "}\n"
      ],
      "text/plain": [
       "<IPython.core.display.Javascript object>"
      ]
     },
     "metadata": {},
     "output_type": "display_data"
    }
   ],
   "source": [
    "%%javascript\n",
    "IPython.OutputArea.prototype._should_scroll = function(lines) {\n",
    "    return false;\n",
    "}"
   ]
  },
  {
   "cell_type": "code",
   "execution_count": 4,
   "metadata": {
    "deletable": false,
    "editable": false,
    "nbgrader": {
     "cell_type": "code",
     "checksum": "5a54a430359baa27d61418c42d6ca677",
     "grade": false,
     "grade_id": "cell-f40d5d6cf9af8b9c",
     "locked": true,
     "schema_version": 3,
     "solution": false,
     "task": false
    }
   },
   "outputs": [],
   "source": [
    "def plotVectors(vecs, cols, alpha=1):\n",
    "    \"\"\"\n",
    "    Plot set of vectors.\n",
    "\n",
    "    Parameters\n",
    "    ----------\n",
    "    vecs : array-like\n",
    "        Coordinates of the vectors to plot. Each vectors is in an array. For\n",
    "        instance: [[1, 3], [2, 2]] can be used to plot 2 vectors.\n",
    "    cols : array-like\n",
    "        Colors of the vectors. For instance: ['red', 'blue'] will display the\n",
    "        first vector in red and the second in blue.\n",
    "    alpha : float\n",
    "        Opacity of vectors\n",
    "\n",
    "    Returns:\n",
    "\n",
    "    fig : instance of matplotlib.figure.Figure\n",
    "        The figure of the vectors\n",
    "    \"\"\"\n",
    "    plt.axvline(x=0, color='#A9A9A9', zorder=0)\n",
    "    plt.axhline(y=0, color='#A9A9A9', zorder=0)\n",
    "\n",
    "    for i in range(len(vecs)):\n",
    "        if (isinstance(alpha, list)):\n",
    "            alpha_i = alpha[i]\n",
    "        else:\n",
    "            alpha_i = alpha\n",
    "        x = np.concatenate([[0,0],vecs[i]])\n",
    "        plt.quiver([x[0]],\n",
    "                   [x[1]],\n",
    "                   [x[2]],\n",
    "                   [x[3]],\n",
    "                   angles='xy', scale_units='xy', scale=1, color=cols[i],\n",
    "                  alpha=alpha_i)"
   ]
  },
  {
   "cell_type": "markdown",
   "metadata": {
    "deletable": false,
    "editable": false,
    "nbgrader": {
     "cell_type": "markdown",
     "checksum": "7dd5a214f7323ed026fd187c46fb76bf",
     "grade": false,
     "grade_id": "cell-5567628746eb8a4f",
     "locked": true,
     "schema_version": 3,
     "solution": false,
     "task": false
    }
   },
   "source": [
    "# Introduction\n",
    "\n",
    "Singular Value Decomposition decompose a matrix in three other matrices. You can see these new matrices as *sub-transformations* of the space. Instead of doing the transformation in one movement, we decompose it in three movements. As a bonus, we will apply the SVD to image processing. Keep on reading!\n",
    "\n",
    "# Singular Value Decomposition\n",
    "\n",
    "<img src=\"images/unit-circle-transformation1.png\" width=\"400\" alt=\"Plot of the unit circle and its transformation\" title=\"Transformation of the unit circle\">\n",
    "<em>The unit circle and its transformation by a matrix.</em>\n",
    "\n",
    "The eigendecomposition can be done only for square matrices. The way to go to decompose other types of matrices that can't be decomposed with eigendecomposition is to use **Singular Value Decomposition** (SVD).\n",
    "\n",
    "We will decompose ${A}$ into 3 matrices (instead of two with eigendecomposition):\n",
    "\n",
    "<img src=\"images/singular-value-decomposition.png\" width=\"300\" alt=\"Illustration of the singular value decomposition\" title=\"The singular value decomposition\">\n",
    "<em>The singular value decomposition</em>\n",
    "\n",
    "The matrices ${U}$, ${D}$, and ${V}$ have the following properties:\n",
    "\n",
    "- ${U}$ and ${V}$ are orthogonal matrices (${U}^\\text{T}={U}^{-1}$ and ${V}^\\text{T}={V}^{-1}$)\n",
    "\n",
    "- ${D}$ is a diagonal matrix (all 0 except the diagonal. However ${D}$ is not necessarily square.\n",
    "\n",
    "The columns of ${U}$ are called the left-singular vectors of ${A}$ while the columns of ${V}$ are the right-singular vectors of ${A}$. The values along the diagonal of ${D}$ are the singular values of ${A}$.\n",
    "\n",
    "\n",
    "Here are the dimensions of the factorization:\n",
    "\n",
    "<img src=\"images/singular-value-decomposition-understanding-dimensions.png\" width=\"300\" alt=\"Dimensions of the singular value decomposition (SVD)\" title=\"The dimensions of the singular value decomposition (SVD)\">\n",
    "<em>The dimensions of the singular value decomposition</em>\n",
    "\n",
    "\n",
    "The diagonal matrix of singular values is not square but has the shape of ${A}$. Look at the example provided in the [Numpy doc](https://docs.scipy.org/doc/numpy/reference/generated/numpy.linalg.svd.html) to see that they create a matrix of zeros with the same shape as ${A}$ and fill it with the singular values:\n",
    "\n",
    "```python\n",
    "s_mat = np.zeros((9, 6), dtype=complex)\n",
    "s_mat[:6, :6] = np.diag(s)\n",
    "```\n",
    "\n",
    "\n"
   ]
  },
  {
   "cell_type": "markdown",
   "metadata": {
    "deletable": false,
    "editable": false,
    "nbgrader": {
     "cell_type": "markdown",
     "checksum": "ad593daec4e4b4c172ca45e0aaa70a51",
     "grade": false,
     "grade_id": "cell-bb622721eeb2d28b",
     "locked": true,
     "schema_version": 3,
     "solution": false,
     "task": false
    }
   },
   "source": [
    "# Intuition\n",
    "\n",
    "Here are several examples showing how the space can be transformed by 2D square matrices. Hopefully, this will lead to a better understanding of this statement:\n",
    "\n",
    "<span class='pquote'>\n",
    "    ${A}$ is a matrix that can be seen as a linear transformation. This transformation can be decomposed in three sub-transformations: 1. rotation, 2. re-scaling, 3. rotation. These three steps correspond to the three matrices ${U}$, ${D}$, and ${V}$.\n",
    "</span>\n",
    "\n",
    "### Every matrix can be seen as a linear transformation\n",
    "\n",
    "You can see a matrix as a specific linear transformation. When you *apply* this matrix to a vector or to another matrix you will apply this linear transformation to it.\n",
    "\n",
    "### Example 1.\n",
    "\n",
    "We will modify the vector:\n",
    "\n",
    "$$\n",
    "{v}=\\begin{bmatrix}\n",
    "    x\\\\\\\\\n",
    "    y\n",
    "\\end{bmatrix}\n",
    "$$\n",
    "\n",
    "by applying the matrix:\n",
    "\n",
    "$$\n",
    "\\begin{bmatrix}\n",
    "    2 & 0\\\\\\\\\n",
    "    0 & 2\n",
    "\\end{bmatrix}\n",
    "$$\n",
    "\n",
    "We will have:\n",
    "\n",
    "$$\n",
    "\\begin{bmatrix}\n",
    "    x'\\\\\\\\\n",
    "    y'\n",
    "\\end{bmatrix}=\\begin{bmatrix}\n",
    "    2 & 0\\\\\\\\\n",
    "    0 & 2\n",
    "\\end{bmatrix}\n",
    "\\begin{bmatrix}\n",
    "    x\\\\\\\\\n",
    "    y\n",
    "\\end{bmatrix}=\n",
    "\\begin{bmatrix}\n",
    "    2x + 0y\\\\\\\\\n",
    "    0x + 2y\n",
    "\\end{bmatrix}=\n",
    "\\begin{bmatrix}\n",
    "    2x\\\\\\\\\n",
    "    2y\n",
    "\\end{bmatrix}\n",
    "$$\n",
    "\n",
    "We see that applying the matrix:\n",
    "\n",
    "$$\n",
    "\\begin{bmatrix}\n",
    "    2 & 0\\\\\\\\\n",
    "    0 & 2\n",
    "\\end{bmatrix}\n",
    "$$\n",
    "\n",
    "just doubled each coordinate of our vector. Here are the graphical representation of ${v}$ and its transformation ${w}$:\n",
    "\n",
    "<img src=\"images/transformation-vector-by-matrix.png\" width=\"400\" alt=\"Plot of a vector and its transformation\" title=\"The matrix increased both coordinates of the vector\">\n",
    "<em>Applying the matrix on the vector multiplied each coordinate by two</em>\n",
    "\n",
    "You can look at other examples of simple transformations on vectors and unit circle in [this playlist](https://www.youtube.com/playlist?list=PLZHQObOWTQDPD3MizzM2xVFitgF8hE_ab).\n"
   ]
  },
  {
   "cell_type": "markdown",
   "metadata": {
    "deletable": false,
    "editable": false,
    "nbgrader": {
     "cell_type": "markdown",
     "checksum": "64f3e481835efb586abc03d929987398",
     "grade": false,
     "grade_id": "cell-154795f1e9ee30e5",
     "locked": true,
     "schema_version": 3,
     "solution": false,
     "task": false
    }
   },
   "source": [
    "### Example 2.\n",
    "\n",
    "To represent the linear transformation associated with matrices we can also draw the unit circle and see how a matrix can transform it. The unit circle represents the coordinates of every unit vectors (vector of length 1).\n",
    "\n",
    "<img src=\"images/unit-circle.png\" width=\"200\" alt=\"Representation of the unit circle\" title=\"The unit circle\">\n",
    "<em>The unit circle</em>\n",
    "\n",
    "It is then possible to apply a matrix to all these unit vectors to see the kind of deformation it will produce.\n",
    "\n",
    "Again, let's apply the matrix:\n",
    "\n",
    "$$\n",
    "\\begin{bmatrix}\n",
    "    2 & 0\\\\\\\\\n",
    "    0 & 2\n",
    "\\end{bmatrix}\n",
    "$$\n",
    "\n",
    "to the unit circle:\n",
    "\n",
    "$$\n",
    "\\begin{bmatrix}\n",
    "    x'\\\\\\\\\n",
    "    y'\n",
    "\\end{bmatrix}=\n",
    "\\begin{bmatrix}\n",
    "    2 & 0\\\\\\\\\n",
    "    0 & 2\n",
    "\\end{bmatrix}\n",
    "\\begin{bmatrix}\n",
    "    x\\\\\\\\\n",
    "    y\n",
    "\\end{bmatrix}=\n",
    "\\begin{bmatrix}\n",
    "    2x\\\\\\\\\n",
    "    2y\n",
    "\\end{bmatrix}\n",
    "$$\n",
    "\n",
    "<img src=\"images/unit-circle-transformation.png\" width=\"400\" alt=\"Representation of the unit circle and its transformation\" title=\"The unit circle and its transformation\">\n",
    "<em>Another representation of the effect of the matrix: each coordinate of the unit circle was multiplied by two</em>\n",
    "\n",
    "We can see that the matrix doubled the size of the circle. But in some transformations, the change applied to the $x$ coordinate is different from the change applied to the $y$ coordinate. Let's see what it means graphically."
   ]
  },
  {
   "cell_type": "markdown",
   "metadata": {
    "deletable": false,
    "editable": false,
    "nbgrader": {
     "cell_type": "markdown",
     "checksum": "0d3e89d37400009850a7a6cba6a249da",
     "grade": false,
     "grade_id": "cell-f104b495e24807e3",
     "locked": true,
     "schema_version": 3,
     "solution": false,
     "task": false
    }
   },
   "source": [
    "### Example 3.\n",
    "\n",
    "We will apply the matrix:\n",
    "\n",
    "$$\n",
    "\\begin{bmatrix}\n",
    "    3 & 0\\\\\\\\\n",
    "    0 & 2\n",
    "\\end{bmatrix}\n",
    "$$\n",
    "\n",
    "to the unit circle:\n",
    "\n",
    "$$\n",
    "\\begin{bmatrix}\n",
    "    x'\\\\\\\\\n",
    "    y'\n",
    "\\end{bmatrix}=\n",
    "\\begin{bmatrix}\n",
    "    3 & 0\\\\\\\\\n",
    "    0 & 2\n",
    "\\end{bmatrix}\\cdot\n",
    "\\begin{bmatrix}\n",
    "    x\\\\\\\\\n",
    "    y\n",
    "\\end{bmatrix}=\n",
    "\\begin{bmatrix}\n",
    "    3x\\\\\\\\\n",
    "    2y\n",
    "\\end{bmatrix}\n",
    "$$\n",
    "\n",
    "This gives the following new circle:\n",
    "\n",
    "<img src=\"images/unit-circle-transformation1.png\" width=\"400\" alt=\"Representation of the unit circle and its transformation\" title=\"The unit circle and its transformation\">\n",
    "<em>This time the matrix didn't rescale each coordinate with the same weight</em>\n",
    "\n",
    "We can check that with the equations associated with this matrix transformation. Let's say that the coordinates of the new circle (after transformation) are $x'$ and $y'$. The relation between the old coordinates ($x$, $y$) and the new coordinates ($x'$, $y'$) is:\n",
    "\n",
    "$$\n",
    "\\begin{bmatrix}\n",
    "    x'\\\\\\\\\n",
    "    y'\n",
    "\\end{bmatrix}=\n",
    "\\begin{bmatrix}\n",
    "    3x\\\\\\\\\n",
    "    2y\n",
    "\\end{bmatrix}\n",
    "\\Leftrightarrow\n",
    "\\begin{cases}\n",
    "x=\\frac{x'}{3}\\\\\\\\\n",
    "y=\\frac{y'}{2}\n",
    "\\end{cases}\n",
    "$$\n",
    "\n",
    "We also know that the equation of the unit circle is $x^2+y^2=1$ (the norm of the unit vectors is 1, see [2.5](https://hadrienj.github.io/posts/Deep-Learning-Book-Series-2.5-Norms/)). By replacement we end up with:\n",
    "\n",
    "$$\n",
    "\\begin{align*}\n",
    "\\left(\\frac{x'}{3}\\right)^2 + \\left(\\frac{y'}{2}\\right)^2 = 1\\\\\\\\\n",
    "\\left(\\frac{y'}{2}\\right)^2 = 1 - \\left(\\frac{x'}{3}\\right)^2\\\\\\\\\n",
    "\\frac{y'}{2} = \\sqrt{1 - \\left(\\frac{x'}{3}\\right)^2}\\\\\\\\\n",
    "y' = 2\\sqrt{1 - \\left(\\frac{x'}{3}\\right)^2}\n",
    "\\end{align*}\n",
    "$$\n",
    "\n",
    "We can check that this equation corresponds to our transformed circle. Let's start by drawing the old circle. Its equation is:\n",
    "\n",
    "$$\n",
    "\\begin{align*}\n",
    "x^2+y^2=1\\\\\\\\\n",
    "y^2=1-x^2\\\\\\\\\n",
    "y=\\sqrt{1-x^2}\n",
    "\\end{align*}\n",
    "$$"
   ]
  },
  {
   "cell_type": "code",
   "execution_count": 5,
   "metadata": {
    "deletable": false,
    "editable": false,
    "nbgrader": {
     "cell_type": "code",
     "checksum": "3590ce7b4096ea1957b5e03c47f9967b",
     "grade": false,
     "grade_id": "cell-ca8b7a9feedf486e",
     "locked": true,
     "schema_version": 3,
     "solution": false,
     "task": false
    }
   },
   "outputs": [
    {
     "data": {
      "image/png": "[encoded data removed]",
      "text/plain": [
       "<Figure size 288x288 with 1 Axes>"
      ]
     },
     "metadata": {
      "needs_background": "light"
     },
     "output_type": "display_data"
    }
   ],
   "source": [
    "def plot_circle():\n",
    "    x = np.linspace(-1, 1, 100000)\n",
    "    y = np.sqrt(1-(x**2))\n",
    "    plt.plot(x, y, sns.color_palette().as_hex()[0])\n",
    "    plt.plot(x, -y, sns.color_palette().as_hex()[0])\n",
    "    plt.xlim(-1.5, 1.5)\n",
    "    plt.ylim(-1.5, 1.5)\n",
    "    plt.show()\n",
    "plot_circle()"
   ]
  },
  {
   "cell_type": "markdown",
   "metadata": {
    "deletable": false,
    "editable": false,
    "nbgrader": {
     "cell_type": "markdown",
     "checksum": "5746e20757b0cc15c92aa9729f993f20",
     "grade": false,
     "grade_id": "cell-7c6634bc2ecf05fa",
     "locked": true,
     "schema_version": 3,
     "solution": false,
     "task": false
    }
   },
   "source": [
    "So far so good!\n",
    "\n",
    "*Coding tip*: You can see the trick to plot a circle here: you create the $x$ variable, then $y$ is defined from $x$. This means that for each $x$, the corresponding $y$ value is calculated (and thus $y$ has the same shape as $x$). Since the result of the square root can be negative or positive (for instance, 4 can be the result of $2^2$ but also of $(-2)^2$) we need to plot both solutions ($y$ and $-y$ in `plt.plot`). Note also that a lot of values are needed if we want the connection between the two demi-spheres.\n",
    "\n",
    "\n",
    "Now let's add the circle obtained after matrix transformation. We saw that it is defined with\n",
    "\n",
    "$$\n",
    "y = 2\\sqrt{1 - \\left(\\frac{x}{3}\\right)^2}\n",
    "$$"
   ]
  },
  {
   "cell_type": "code",
   "execution_count": 6,
   "metadata": {
    "deletable": false,
    "editable": false,
    "nbgrader": {
     "cell_type": "code",
     "checksum": "fc2cb04228ffc98054e48c3022e6fc65",
     "grade": false,
     "grade_id": "cell-6c032b0187653ac5",
     "locked": true,
     "schema_version": 3,
     "solution": false,
     "task": false
    }
   },
   "outputs": [
    {
     "data": {
      "image/png": "[encoded data removed]",
      "text/plain": [
       "<Figure size 288x288 with 1 Axes>"
      ]
     },
     "metadata": {
      "needs_background": "light"
     },
     "output_type": "display_data"
    }
   ],
   "source": [
    "def plot_ellipse():\n",
    "    x1 = np.linspace(-3, 3, 100000)\n",
    "    y1 = 2*np.sqrt(1-((x1/3)**2))\n",
    "    plt.plot(x1, y1, sns.color_palette().as_hex()[1])\n",
    "    plt.plot(x1, -y1, sns.color_palette().as_hex()[1])\n",
    "    plt.xlim(-4, 4)\n",
    "    plt.ylim(-4, 4)\n",
    "    plt.show()\n",
    "plot_ellipse()"
   ]
  },
  {
   "cell_type": "markdown",
   "metadata": {
    "deletable": false,
    "editable": false,
    "nbgrader": {
     "cell_type": "markdown",
     "checksum": "8eb972708af58d2d3ff64b5678a7f368",
     "grade": false,
     "grade_id": "cell-901ad634668fb2d4",
     "locked": true,
     "schema_version": 3,
     "solution": false,
     "task": false
    }
   },
   "source": [
    "This shows that our transformation was correct.\n",
    "\n",
    "Note that these examples used **diagonal matrices** (all zeros except the diagonal). The general rule is that the transformation associated with diagonal matrices imply only a rescaling of each coordinate **without rotation**. This is a first element to understand the SVD. Look again at the decomposition\n",
    "\n",
    "<img src=\"images/singular-value-decomposition.png\" width=\"300\">\n",
    "\n",
    "\n",
    "The transformation associated with diagonal matrices imply only a rescaling of each coordinate **without rotation**\n",
    "\n",
    "\n",
    "We saw that the matrix ${D}$ is a diagonal matrix. And we saw also that it corresponds to a rescaling without rotation.\n",
    "\n",
    "\n",
    "\n",
    "\n",
    "### Example 4. rotation matrix\n",
    "\n",
    "Matrices that are not diagonal can produce a rotation (see more details [here](https://en.wikipedia.org/wiki/Rotation_matrix)). Since it is easier to think about angles when we talk about rotation, we will use a matrix of the form\n",
    "\n",
    "$$\n",
    "R=\n",
    "\\begin{bmatrix}\n",
    "    cos(\\theta) & -sin(\\theta)\\\\\\\\\n",
    "    sin(\\theta) & cos(\\theta)\n",
    "\\end{bmatrix}\n",
    "$$\n",
    "\n",
    "This matrix will rotate our vectors or matrices counterclockwise through an angle $\\theta$. Our new coordinates will be\n",
    "\n",
    "$$\n",
    "\\begin{bmatrix}\n",
    "    x'\\\\\\\\\n",
    "    y'\n",
    "\\end{bmatrix}=\n",
    "\\begin{bmatrix}\n",
    "    cos(\\theta) & -sin(\\theta)\\\\\\\\\n",
    "    sin(\\theta) & cos(\\theta)\n",
    "\\end{bmatrix}\n",
    "\\begin{bmatrix}\n",
    "    x\\\\\\\\\n",
    "    y\n",
    "\\end{bmatrix}=\n",
    "\\begin{bmatrix}\n",
    "    xcos(\\theta) - ysin(\\theta)\\\\\\\\\n",
    "    xsin(\\theta) + ycos(\\theta)\n",
    "\\end{bmatrix}\n",
    "$$\n",
    "\n",
    "Let's rotate some vectors through an angle of $\\theta = 45^\\circ$.\n",
    "\n",
    "Let's start with the vector ${u}$ of coordinates $x=0$ and $y=1$ and the vector ${v}$ of coordinates $x=1$ and $y=0$. The vectors ${u'}$ ${v'}$ are the rotated vectors.\n",
    "\n",
    "<img src=\"images/unit-vectors-rotation.png\" width=\"200\" alt=\"Rotation of the unit vectors through matrix operation\" title=\"Rotation of the unit vectors\">\n",
    "<em>Counter clockwise rotation of the unit vectors with $\\theta = 45^\\circ$</em>\n",
    "\n",
    "First, let's plot ${u}$ and ${v}$."
   ]
  },
  {
   "cell_type": "code",
   "execution_count": 7,
   "metadata": {
    "deletable": false,
    "editable": false,
    "nbgrader": {
     "cell_type": "code",
     "checksum": "9343416d04432cfb93d0bc36644304a8",
     "grade": false,
     "grade_id": "cell-40c0ec5567859062",
     "locked": true,
     "schema_version": 3,
     "solution": false,
     "task": false
    }
   },
   "outputs": [
    {
     "data": {
      "image/png": "[encoded data removed]",
      "text/plain": [
       "<Figure size 288x288 with 1 Axes>"
      ]
     },
     "metadata": {
      "needs_background": "light"
     },
     "output_type": "display_data"
    }
   ],
   "source": [
    "orange = '#FF9A13'\n",
    "blue = '#1190FF'\n",
    "    \n",
    "u = [1,0]\n",
    "v = [0,1]\n",
    "\n",
    "plotVectors([u, v], cols=[blue, blue])\n",
    "\n",
    "plt.xlim(-1.5, 1.5)\n",
    "plt.ylim(-1.5, 1.5)\n",
    "\n",
    "plt.text(-0.25, 0.2, r'$\\vec{u}$', color=blue, size=18)\n",
    "plt.text(0.4, -0.25, r'$\\vec{v}$', color=blue, size=18)\n",
    "plt.show()"
   ]
  },
  {
   "cell_type": "markdown",
   "metadata": {
    "deletable": false,
    "editable": false,
    "nbgrader": {
     "cell_type": "markdown",
     "checksum": "20cde71ec98196552ae934b1f41516e3",
     "grade": false,
     "grade_id": "cell-472e4fb1bf92f02a",
     "locked": true,
     "schema_version": 3,
     "solution": false,
     "task": false
    }
   },
   "source": [
    "They are the basis vectors<a href=\"https://www.youtube.com/playlist?list=PLZHQObOWTQDPD3MizzM2xVFitgF8hE_ab\">(watch this playlist for understanding basis vectors)</a> of our space. We will calculate the transformation of these vectors:\n",
    "\n",
    "$$\n",
    "\\begin{cases}\n",
    "u_x = 0\\cdot cos(45) - 1\\cdot sin(45)\\\\\\\\\n",
    "u_y = 0\\cdot sin(45) + 1\\cdot cos(45)\n",
    "\\end{cases}\n",
    "\\Leftrightarrow\n",
    "\\begin{cases}\n",
    "u_x = -sin(45)\\\\\\\\\n",
    "u_y = cos(45)\n",
    "\\end{cases}\n",
    "$$\n",
    "\n",
    "$$\n",
    "\\begin{cases}\n",
    "v_x = 1\\cdot cos(45) - 0\\cdot sin(45)\\\\\\\\\n",
    "v_y = 1\\cdot sin(45) + 0\\cdot cos(45)\n",
    "\\end{cases}\n",
    "\\Leftrightarrow\n",
    "\\begin{cases}\n",
    "v_x = cos(45)\\\\\\\\\n",
    "v_y = sin(45)\n",
    "\\end{cases}\n",
    "$$\n",
    "\n",
    "We will now plot these new vectors to check that they are well our basis vectors rotated through an angle of $45^\\circ$."
   ]
  },
  {
   "cell_type": "code",
   "execution_count": 8,
   "metadata": {
    "deletable": false,
    "editable": false,
    "nbgrader": {
     "cell_type": "code",
     "checksum": "15679771942b622a375e97a1f178bbff",
     "grade": false,
     "grade_id": "cell-12cf228db15fb3ec",
     "locked": true,
     "schema_version": 3,
     "solution": false,
     "task": false
    }
   },
   "outputs": [
    {
     "data": {
      "image/png": "[encoded data removed]",
      "text/plain": [
       "<Figure size 288x288 with 1 Axes>"
      ]
     },
     "metadata": {
      "needs_background": "light"
     },
     "output_type": "display_data"
    }
   ],
   "source": [
    "u1 = [-np.sin(np.radians(45)), np.cos(np.radians(45))]\n",
    "v1 = [np.cos(np.radians(45)), np.sin(np.radians(45))]\n",
    "\n",
    "plotVectors([u1, v1], cols=[orange, orange])\n",
    "plt.xlim(-1.5, 1.5)\n",
    "plt.ylim(-1.5, 1.5)\n",
    "\n",
    "plt.text(-0.7, 0.1, r\"$\\vec{u'}$\", color=orange, size=18)\n",
    "plt.text(0.4, 0.1, r\"$\\vec{v'}$\", color=orange, size=18)\n",
    "plt.show()"
   ]
  },
  {
   "cell_type": "markdown",
   "metadata": {
    "deletable": false,
    "editable": false,
    "nbgrader": {
     "cell_type": "markdown",
     "checksum": "3b689ee1df5d47a1b04871baabc670e9",
     "grade": false,
     "grade_id": "cell-a9b736657efa1fef",
     "locked": true,
     "schema_version": 3,
     "solution": false,
     "task": false
    }
   },
   "source": [
    "*Coding tip:* the numpy functions `sin` and `cos` take input in radians. We can convert our angle from degrees to radians with the function `np.radians()`.\n",
    "\n",
    "We can also transform a circle. We will take a rescaled circle (the one from the example 3.) to be able to see the effect of the rotation.\n",
    "\n",
    "<img src=\"images/rescaled-circle-rotated.png\" width=\"300\" alt=\"A rescaled circle (not the same hight and width) rotated\" title=\"Rescaled circle rotated\">\n",
    "<em>The effect of a rotation matrix on a rescaled circle</em>"
   ]
  },
  {
   "cell_type": "code",
   "execution_count": 9,
   "metadata": {
    "deletable": false,
    "nbgrader": {
     "cell_type": "code",
     "checksum": "dd032b899ea55a377d917d5e92f6b8c3",
     "grade": false,
     "grade_id": "cell-4d49ad6464a9d91f",
     "locked": false,
     "schema_version": 3,
     "solution": true,
     "task": false
    }
   },
   "outputs": [],
   "source": [
    "def transform_circle():\n",
    "    '''\n",
    "    # Generate 100000 points between -3 and 3. Relate x and y for an ellipse\n",
    "    x = \n",
    "    y = \n",
    "    \n",
    "    # Generate positive x, y coordinates for the rotated ellipse\n",
    "    x1 = \n",
    "    y1 = \n",
    "\n",
    "    # Generate negative x, y coordinates for the rotated ellipse\n",
    "    x1_neg = \n",
    "    y1_neg = \n",
    "    \n",
    "    \n",
    "    return a list in the order [x,y,x1,y1,x1_neg,y1_neg]\n",
    "    \n",
    "    '''\n",
    "    \n",
    "    # YOUR CODE HERE\n",
    "    raise NotImplementedError()\n",
    "    \n",
    "    u1 = [-2*np.sin(np.radians(45)), 2*np.cos(np.radians(45))]\n",
    "    v1 = [3*np.cos(np.radians(45)), 3*np.sin(np.radians(45))]\n",
    "    \n",
    "    plotVectors([u1, v1], cols=['#FF9A13', '#FF9A13'])\n",
    "\n",
    "    plt.plot(x, y, '#1190FF')\n",
    "    plt.plot(x, -y, '#1190FF')\n",
    "\n",
    "    plt.plot(x1, y1, '#FF9A13')\n",
    "    plt.plot(x1_neg, y1_neg, '#FF9A13')\n",
    "\n",
    "    plt.xlim(-4, 4)\n",
    "    plt.ylim(-4, 4)\n",
    "    plt.show()\n",
    "    "
   ]
  },
  {
   "cell_type": "code",
   "execution_count": 10,
   "metadata": {
    "deletable": false,
    "editable": false,
    "nbgrader": {
     "cell_type": "code",
     "checksum": "98be58b935fe4f4602a8021230486462",
     "grade": true,
     "grade_id": "cell-77573dbf1dc09e97",
     "locked": true,
     "points": 0,
     "schema_version": 3,
     "solution": false,
     "task": false
    }
   },
   "outputs": [
    {
     "ename": "NotImplementedError",
     "evalue": "",
     "output_type": "error",
     "traceback": [
      "\u001b[0;31m---------------------------------------------------------------------------\u001b[0m",
      "\u001b[0;31mNotImplementedError\u001b[0m                       Traceback (most recent call last)",
      "\u001b[0;32m<ipython-input-10-368de2bc45eb>\u001b[0m in \u001b[0;36m<module>\u001b[0;34m\u001b[0m\n\u001b[1;32m      1\u001b[0m \u001b[0;31m### BEGIN HIDDEN TESTS\u001b[0m\u001b[0;34m\u001b[0m\u001b[0;34m\u001b[0m\u001b[0;34m\u001b[0m\u001b[0m\n\u001b[0;32m----> 2\u001b[0;31m \u001b[0manswer\u001b[0m \u001b[0;34m=\u001b[0m \u001b[0mtransform_circle\u001b[0m\u001b[0;34m(\u001b[0m\u001b[0;34m)\u001b[0m\u001b[0;34m\u001b[0m\u001b[0;34m\u001b[0m\u001b[0m\n\u001b[0m\u001b[1;32m      3\u001b[0m \u001b[0mx\u001b[0m \u001b[0;34m=\u001b[0m \u001b[0mnp\u001b[0m\u001b[0;34m.\u001b[0m\u001b[0mlinspace\u001b[0m\u001b[0;34m(\u001b[0m\u001b[0;34m-\u001b[0m\u001b[0;36m3\u001b[0m\u001b[0;34m,\u001b[0m \u001b[0;36m3\u001b[0m\u001b[0;34m,\u001b[0m \u001b[0;36m100000\u001b[0m\u001b[0;34m)\u001b[0m\u001b[0;34m\u001b[0m\u001b[0;34m\u001b[0m\u001b[0m\n\u001b[1;32m      4\u001b[0m \u001b[0my\u001b[0m \u001b[0;34m=\u001b[0m \u001b[0;36m2\u001b[0m\u001b[0;34m*\u001b[0m\u001b[0mnp\u001b[0m\u001b[0;34m.\u001b[0m\u001b[0msqrt\u001b[0m\u001b[0;34m(\u001b[0m\u001b[0;36m1\u001b[0m\u001b[0;34m-\u001b[0m\u001b[0;34m(\u001b[0m\u001b[0;34m(\u001b[0m\u001b[0mx\u001b[0m\u001b[0;34m/\u001b[0m\u001b[0;36m3\u001b[0m\u001b[0;34m)\u001b[0m\u001b[0;34m**\u001b[0m\u001b[0;36m2\u001b[0m\u001b[0;34m)\u001b[0m\u001b[0;34m)\u001b[0m\u001b[0;34m\u001b[0m\u001b[0;34m\u001b[0m\u001b[0m\n\u001b[1;32m      5\u001b[0m \u001b[0;34m\u001b[0m\u001b[0m\n",
      "\u001b[0;32m<ipython-input-9-047c2a99460c>\u001b[0m in \u001b[0;36mtransform_circle\u001b[0;34m()\u001b[0m\n\u001b[1;32m     19\u001b[0m \u001b[0;34m\u001b[0m\u001b[0m\n\u001b[1;32m     20\u001b[0m     \u001b[0;31m# YOUR CODE HERE\u001b[0m\u001b[0;34m\u001b[0m\u001b[0;34m\u001b[0m\u001b[0;34m\u001b[0m\u001b[0m\n\u001b[0;32m---> 21\u001b[0;31m     \u001b[0;32mraise\u001b[0m \u001b[0mNotImplementedError\u001b[0m\u001b[0;34m(\u001b[0m\u001b[0;34m)\u001b[0m\u001b[0;34m\u001b[0m\u001b[0;34m\u001b[0m\u001b[0m\n\u001b[0m\u001b[1;32m     22\u001b[0m \u001b[0;34m\u001b[0m\u001b[0m\n\u001b[1;32m     23\u001b[0m     \u001b[0mu1\u001b[0m \u001b[0;34m=\u001b[0m \u001b[0;34m[\u001b[0m\u001b[0;34m-\u001b[0m\u001b[0;36m2\u001b[0m\u001b[0;34m*\u001b[0m\u001b[0mnp\u001b[0m\u001b[0;34m.\u001b[0m\u001b[0msin\u001b[0m\u001b[0;34m(\u001b[0m\u001b[0mnp\u001b[0m\u001b[0;34m.\u001b[0m\u001b[0mradians\u001b[0m\u001b[0;34m(\u001b[0m\u001b[0;36m45\u001b[0m\u001b[0;34m)\u001b[0m\u001b[0;34m)\u001b[0m\u001b[0;34m,\u001b[0m \u001b[0;36m2\u001b[0m\u001b[0;34m*\u001b[0m\u001b[0mnp\u001b[0m\u001b[0;34m.\u001b[0m\u001b[0mcos\u001b[0m\u001b[0;34m(\u001b[0m\u001b[0mnp\u001b[0m\u001b[0;34m.\u001b[0m\u001b[0mradians\u001b[0m\u001b[0;34m(\u001b[0m\u001b[0;36m45\u001b[0m\u001b[0;34m)\u001b[0m\u001b[0;34m)\u001b[0m\u001b[0;34m]\u001b[0m\u001b[0;34m\u001b[0m\u001b[0;34m\u001b[0m\u001b[0m\n",
      "\u001b[0;31mNotImplementedError\u001b[0m: "
     ]
    }
   ],
   "source": [
    "### BEGIN HIDDEN TESTS\n",
    "answer = transform_circle()\n",
    "x = np.linspace(-3, 3, 100000)\n",
    "y = 2*np.sqrt(1-((x/3)**2))\n",
    "\n",
    "x1 = x*np.cos(np.radians(45)) - y*np.sin(np.radians(45))\n",
    "y1 = x*np.sin(np.radians(45)) + y*np.cos(np.radians(45))\n",
    "\n",
    "x1_neg = x*np.cos(np.radians(45)) - -y*np.sin(np.radians(45))\n",
    "y1_neg = x*np.sin(np.radians(45)) + -y*np.cos(np.radians(45))\n",
    "\n",
    "\n",
    "assert np.array_equal(np.array(answer),np.array([x,y,x1,y1,x1_neg,y1_neg]))\n",
    "\n",
    "### END HIDDEN TESTS"
   ]
  },
  {
   "cell_type": "markdown",
   "metadata": {
    "deletable": false,
    "editable": false,
    "nbgrader": {
     "cell_type": "markdown",
     "checksum": "9152ac7d62d158e3e2a7ad3d1bc60338",
     "grade": false,
     "grade_id": "cell-16f9210212b33d6e",
     "locked": true,
     "schema_version": 3,
     "solution": false,
     "task": false
    }
   },
   "source": [
    "We can see that the circle has been rotated by an angle of $45^\\circ$. We have chosen the length of the vectors from the rescaling weight from example 3 (factor 3 and 2) to match the circle.\n",
    "\n",
    "### Summary\n",
    "\n",
    "I hope that you got how vectors and matrices can be transformed by rotating or scaling matrices. The SVD can be seen as the decomposition of one complex transformation in 3 simpler transformations (a rotation, a scaling and another rotation).\n",
    "\n",
    "Note that we took only square matrices. The SVD can be done even with non square matrices but it is harder to represent transformation associated with non square matrices. For instance, a 3 by 2 matrix will map a 2D space to a 3D space.\n",
    "\n",
    "<img src=\"images/non-square-matrix-change-dimensions.png\" width=\"250\" alt=\"A non square matrix change the number of dimensions of the input\" title=\"Example of a change of dimensions\">\n",
    "<em>A non square matrix change the number of dimensions of the input</em>\n",
    "\n",
    "\n",
    "\n",
    "\n",
    "# The three transformations\n",
    "\n",
    "Now that the link between matrices and linear transformation is clearer we can check that a transformation associated with a matrix can be decomposed with the help of the SVD.\n",
    "\n",
    "But first let's create a function that takes a 2D matrix as an input and draw the unit circle transformation when we apply this matrix to it. It will be useful to visualize the transformations."
   ]
  },
  {
   "cell_type": "code",
   "execution_count": 11,
   "metadata": {
    "deletable": false,
    "editable": false,
    "nbgrader": {
     "cell_type": "code",
     "checksum": "13fd3d21e29ec783859560b750c750af",
     "grade": false,
     "grade_id": "cell-cd5101301640471e",
     "locked": true,
     "schema_version": 3,
     "solution": false,
     "task": false
    }
   },
   "outputs": [],
   "source": [
    "def matrixToPlot(matrix, vectorsCol=['#FF9A13', '#1190FF']):\n",
    "    \"\"\"\n",
    "    Modify the unit circle and basis vector by applying a matrix.\n",
    "    Visualize the effect of the matrix in 2D.\n",
    "\n",
    "    Parameters\n",
    "    ----------\n",
    "    matrix : array-like\n",
    "        2D matrix to apply to the unit circle.\n",
    "    vectorsCol : HEX color code\n",
    "        Color of the basis vectors\n",
    "\n",
    "    Returns:\n",
    "\n",
    "    fig : instance of matplotlib.figure.Figure\n",
    "        The figure containing modified unit circle and basis vectors.\n",
    "    \"\"\"\n",
    "    # Unit circle\n",
    "    x = np.linspace(-1, 1, 100000)\n",
    "    y = np.sqrt(1-(x**2))\n",
    "    \n",
    "    # Modified unit circle (separate negative and positive parts)\n",
    "    x1 = matrix[0,0]*x + matrix[0,1]*y\n",
    "    y1 = matrix[1,0]*x + matrix[1,1]*y\n",
    "    x1_neg = matrix[0,0]*x - matrix[0,1]*y\n",
    "    y1_neg = matrix[1,0]*x - matrix[1,1]*y\n",
    "    # Vectors\n",
    "    u1 = [matrix[0,0],matrix[1,0]]\n",
    "    v1 = [matrix[0,1],matrix[1,1]]\n",
    "    \n",
    "    plotVectors([u1, v1], cols=[vectorsCol[0], vectorsCol[1]])\n",
    "\n",
    "    plt.plot(x1, y1, 'g', alpha=0.5)\n",
    "    plt.plot(x1_neg, y1_neg, 'g', alpha=0.5)"
   ]
  },
  {
   "cell_type": "markdown",
   "metadata": {
    "deletable": false,
    "editable": false,
    "nbgrader": {
     "cell_type": "markdown",
     "checksum": "530453b10ab5c6fd505ba9b7f3b684db",
     "grade": false,
     "grade_id": "cell-2cf317924cf27b49",
     "locked": true,
     "schema_version": 3,
     "solution": false,
     "task": false
    }
   },
   "source": [
    "We can use it to check that the three transformations given by the SVD are equivalent to the transformation done with the original matrix. We will also draw each step of the SVD to see the independant effect of the first rotation, the scaling and the second rotation.\n",
    "\n",
    "We will use the matrix:\n",
    "\n",
    "$$\n",
    "{A}=\\begin{bmatrix}\n",
    "    3 & 7\\\\\\\\\n",
    "    5 & 2\n",
    "\\end{bmatrix}\n",
    "$$\n",
    "\n",
    "and plot the unit circle and its transformation by ${A}$:"
   ]
  },
  {
   "cell_type": "code",
   "execution_count": 12,
   "metadata": {
    "deletable": false,
    "editable": false,
    "nbgrader": {
     "cell_type": "code",
     "checksum": "86b2978bc46638afa3c5ad939cd5ca23",
     "grade": false,
     "grade_id": "cell-4f9beebf356fd4c8",
     "locked": true,
     "schema_version": 3,
     "solution": false,
     "task": false
    }
   },
   "outputs": [
    {
     "name": "stdout",
     "output_type": "stream",
     "text": [
      "Unit circle:\n"
     ]
    },
    {
     "data": {
      "image/png": "[encoded data removed]",
      "text/plain": [
       "<Figure size 288x288 with 1 Axes>"
      ]
     },
     "metadata": {
      "needs_background": "light"
     },
     "output_type": "display_data"
    },
    {
     "name": "stdout",
     "output_type": "stream",
     "text": [
      "Unit circle transformed by A:\n"
     ]
    },
    {
     "data": {
      "image/png": "[encoded data removed]",
      "text/plain": [
       "<Figure size 288x288 with 1 Axes>"
      ]
     },
     "metadata": {
      "needs_background": "light"
     },
     "output_type": "display_data"
    }
   ],
   "source": [
    "A = np.array([[3, 7], [5, 2]])\n",
    "\n",
    "print ('Unit circle:')\n",
    "matrixToPlot(np.array([[1, 0], [0, 1]]))\n",
    "plt.xlim(-1.5, 1.5)\n",
    "plt.ylim(-1.5, 1.5)\n",
    "plt.show()\n",
    "\n",
    "print ('Unit circle transformed by A:')\n",
    "matrixToPlot(A)\n",
    "plt.xlim(-8, 8)\n",
    "plt.ylim(-8, 8)\n",
    "plt.show()"
   ]
  },
  {
   "cell_type": "markdown",
   "metadata": {
    "deletable": false,
    "editable": false,
    "nbgrader": {
     "cell_type": "markdown",
     "checksum": "6671e8bf4956dfb5f08c0c864e639e83",
     "grade": false,
     "grade_id": "cell-b5653597aa9a7ac3",
     "locked": true,
     "schema_version": 3,
     "solution": false,
     "task": false
    }
   },
   "source": [
    "This is what we get when we apply the matrix ${A}$ to the unit circle and the basis vectors. We can see that the two base vectors are not necessarily rotated the same way. This is related to the sign of the determinant of the matrix.\n",
    "\n",
    "Let's now compute the SVD of ${A}$:"
   ]
  },
  {
   "cell_type": "code",
   "execution_count": 13,
   "metadata": {
    "deletable": false,
    "nbgrader": {
     "cell_type": "code",
     "checksum": "57d64c7c9dbc61791354ca210719ce41",
     "grade": false,
     "grade_id": "cell-f4bc8a468000a6ae",
     "locked": false,
     "schema_version": 3,
     "solution": true,
     "task": false
    }
   },
   "outputs": [],
   "source": [
    "def find_svd(A):\n",
    "    \n",
    "    '''\n",
    "    A: numpy array\n",
    "    return the sigular value decomposition of A\n",
    "    '''\n",
    "    # YOUR CODE HERE\n",
    "    raise NotImplementedError()"
   ]
  },
  {
   "cell_type": "code",
   "execution_count": 14,
   "metadata": {
    "deletable": false,
    "editable": false,
    "nbgrader": {
     "cell_type": "code",
     "checksum": "8f162d7ecc0643563bf8db71bdf2fa5a",
     "grade": true,
     "grade_id": "cell-d9e95c0beac745e5",
     "locked": true,
     "points": 1,
     "schema_version": 3,
     "solution": false,
     "task": false
    }
   },
   "outputs": [
    {
     "ename": "NotImplementedError",
     "evalue": "",
     "output_type": "error",
     "traceback": [
      "\u001b[0;31m---------------------------------------------------------------------------\u001b[0m",
      "\u001b[0;31mNotImplementedError\u001b[0m                       Traceback (most recent call last)",
      "\u001b[0;32m<ipython-input-14-b233761db6e8>\u001b[0m in \u001b[0;36m<module>\u001b[0;34m\u001b[0m\n\u001b[1;32m      2\u001b[0m \u001b[0;34m\u001b[0m\u001b[0m\n\u001b[1;32m      3\u001b[0m \u001b[0mmat1\u001b[0m \u001b[0;34m=\u001b[0m \u001b[0mnp\u001b[0m\u001b[0;34m.\u001b[0m\u001b[0mrandom\u001b[0m\u001b[0;34m.\u001b[0m\u001b[0mrandn\u001b[0m\u001b[0;34m(\u001b[0m\u001b[0;36m10\u001b[0m\u001b[0;34m,\u001b[0m\u001b[0;36m10\u001b[0m\u001b[0;34m)\u001b[0m\u001b[0;34m\u001b[0m\u001b[0;34m\u001b[0m\u001b[0m\n\u001b[0;32m----> 4\u001b[0;31m \u001b[0mU\u001b[0m\u001b[0;34m,\u001b[0m\u001b[0mS\u001b[0m\u001b[0;34m,\u001b[0m\u001b[0mV\u001b[0m \u001b[0;34m=\u001b[0m \u001b[0mfind_svd\u001b[0m\u001b[0;34m(\u001b[0m\u001b[0mmat1\u001b[0m\u001b[0;34m)\u001b[0m\u001b[0;34m\u001b[0m\u001b[0;34m\u001b[0m\u001b[0m\n\u001b[0m\u001b[1;32m      5\u001b[0m \u001b[0mU1\u001b[0m\u001b[0;34m,\u001b[0m\u001b[0mS1\u001b[0m\u001b[0;34m,\u001b[0m\u001b[0mV1\u001b[0m \u001b[0;34m=\u001b[0m \u001b[0mnp\u001b[0m\u001b[0;34m.\u001b[0m\u001b[0mlinalg\u001b[0m\u001b[0;34m.\u001b[0m\u001b[0msvd\u001b[0m\u001b[0;34m(\u001b[0m\u001b[0mmat1\u001b[0m\u001b[0;34m)\u001b[0m\u001b[0;34m\u001b[0m\u001b[0;34m\u001b[0m\u001b[0m\n\u001b[1;32m      6\u001b[0m \u001b[0;34m\u001b[0m\u001b[0m\n",
      "\u001b[0;32m<ipython-input-13-9cff458fa91b>\u001b[0m in \u001b[0;36mfind_svd\u001b[0;34m(A)\u001b[0m\n\u001b[1;32m      6\u001b[0m     '''\n\u001b[1;32m      7\u001b[0m     \u001b[0;31m# YOUR CODE HERE\u001b[0m\u001b[0;34m\u001b[0m\u001b[0;34m\u001b[0m\u001b[0;34m\u001b[0m\u001b[0m\n\u001b[0;32m----> 8\u001b[0;31m     \u001b[0;32mraise\u001b[0m \u001b[0mNotImplementedError\u001b[0m\u001b[0;34m(\u001b[0m\u001b[0;34m)\u001b[0m\u001b[0;34m\u001b[0m\u001b[0;34m\u001b[0m\u001b[0m\n\u001b[0m",
      "\u001b[0;31mNotImplementedError\u001b[0m: "
     ]
    }
   ],
   "source": [
    "### BEGIN HIDDEN TESTS\n",
    "\n",
    "mat1 = np.random.randn(10,10)\n",
    "U,S,V = find_svd(mat1)\n",
    "U1,S1,V1 = np.linalg.svd(mat1)\n",
    "\n",
    "assert np.array_equal(U,U1)\n",
    "assert np.array_equal(S,S1)\n",
    "assert np.array_equal(V,V1)\n",
    "\n",
    "### END HIDDEN TESTS"
   ]
  },
  {
   "cell_type": "markdown",
   "metadata": {
    "deletable": false,
    "editable": false,
    "nbgrader": {
     "cell_type": "markdown",
     "checksum": "b77a48822bbcbacdc59a34bcc7d057bb",
     "grade": false,
     "grade_id": "cell-7e74b15a1ee7438f",
     "locked": true,
     "schema_version": 3,
     "solution": false,
     "task": false
    }
   },
   "source": [
    "We can now look at the sub-transformations by looking at the effect of the matrices ${U}$, ${D}$ and ${V}$ in the reverse order. Note that it returns the right singular vector **already transposed** (see the [doc](https://docs.scipy.org/doc/numpy-1.13.0/reference/generated/numpy.linalg.svd.html))."
   ]
  },
  {
   "cell_type": "code",
   "execution_count": 15,
   "metadata": {
    "deletable": false,
    "editable": false,
    "nbgrader": {
     "cell_type": "code",
     "checksum": "3addd433f849eecebe0af6782dbb96b5",
     "grade": false,
     "grade_id": "cell-11690b2aa5bc33c0",
     "locked": true,
     "schema_version": 3,
     "solution": false,
     "task": false
    }
   },
   "outputs": [
    {
     "ename": "NotImplementedError",
     "evalue": "",
     "output_type": "error",
     "traceback": [
      "\u001b[0;31m---------------------------------------------------------------------------\u001b[0m",
      "\u001b[0;31mNotImplementedError\u001b[0m                       Traceback (most recent call last)",
      "\u001b[0;32m<ipython-input-15-1026232ddf8b>\u001b[0m in \u001b[0;36m<module>\u001b[0;34m\u001b[0m\n\u001b[1;32m      1\u001b[0m \u001b[0;31m# Unit circle\u001b[0m\u001b[0;34m\u001b[0m\u001b[0;34m\u001b[0m\u001b[0;34m\u001b[0m\u001b[0m\n\u001b[1;32m      2\u001b[0m \u001b[0;34m\u001b[0m\u001b[0m\n\u001b[0;32m----> 3\u001b[0;31m \u001b[0mU\u001b[0m\u001b[0;34m,\u001b[0m \u001b[0mD\u001b[0m\u001b[0;34m,\u001b[0m \u001b[0mV\u001b[0m \u001b[0;34m=\u001b[0m \u001b[0mfind_svd\u001b[0m\u001b[0;34m(\u001b[0m\u001b[0mA\u001b[0m\u001b[0;34m)\u001b[0m\u001b[0;34m\u001b[0m\u001b[0;34m\u001b[0m\u001b[0m\n\u001b[0m\u001b[1;32m      4\u001b[0m \u001b[0;34m\u001b[0m\u001b[0m\n\u001b[1;32m      5\u001b[0m \u001b[0mprint\u001b[0m \u001b[0;34m(\u001b[0m\u001b[0;34m'Unit circle:'\u001b[0m\u001b[0;34m)\u001b[0m\u001b[0;34m\u001b[0m\u001b[0;34m\u001b[0m\u001b[0m\n",
      "\u001b[0;32m<ipython-input-13-9cff458fa91b>\u001b[0m in \u001b[0;36mfind_svd\u001b[0;34m(A)\u001b[0m\n\u001b[1;32m      6\u001b[0m     '''\n\u001b[1;32m      7\u001b[0m     \u001b[0;31m# YOUR CODE HERE\u001b[0m\u001b[0;34m\u001b[0m\u001b[0;34m\u001b[0m\u001b[0;34m\u001b[0m\u001b[0m\n\u001b[0;32m----> 8\u001b[0;31m     \u001b[0;32mraise\u001b[0m \u001b[0mNotImplementedError\u001b[0m\u001b[0;34m(\u001b[0m\u001b[0;34m)\u001b[0m\u001b[0;34m\u001b[0m\u001b[0;34m\u001b[0m\u001b[0m\n\u001b[0m",
      "\u001b[0;31mNotImplementedError\u001b[0m: "
     ]
    }
   ],
   "source": [
    "# Unit circle\n",
    "\n",
    "U, D, V = find_svd(A)\n",
    "\n",
    "print ('Unit circle:')\n",
    "matrixToPlot(np.array([[1, 0], [0, 1]]))\n",
    "plt.xlim(-1.5, 1.5)\n",
    "plt.ylim(-1.5, 1.5)\n",
    "plt.show()\n",
    "\n",
    "print ('First rotation:')\n",
    "matrixToPlot(V)\n",
    "plt.xlim(-1.5, 1.5)\n",
    "plt.ylim(-1.5, 1.5)\n",
    "plt.show()\n",
    "\n",
    "print ('Scaling:')\n",
    "matrixToPlot(np.diag(D).dot(V))\n",
    "plt.xlim(-9, 9)\n",
    "plt.ylim(-9, 9)\n",
    "plt.show()\n",
    "\n",
    "print ('Second rotation:')\n",
    "matrixToPlot(U.dot(np.diag(D)).dot(V))\n",
    "plt.xlim(-8, 8)\n",
    "plt.ylim(-8, 8)\n",
    "plt.show()"
   ]
  },
  {
   "cell_type": "markdown",
   "metadata": {
    "deletable": false,
    "editable": false,
    "nbgrader": {
     "cell_type": "markdown",
     "checksum": "903b52c3ddc030d416b3f6d9cc6fab71",
     "grade": false,
     "grade_id": "cell-8adddf3ef9c99f7a",
     "locked": true,
     "schema_version": 3,
     "solution": false,
     "task": false
    }
   },
   "source": [
    "Just to be sure, you can compare this last step with the transformation by ${A}$. Fortunately, you will see that the result is the same:"
   ]
  },
  {
   "cell_type": "code",
   "execution_count": 16,
   "metadata": {
    "deletable": false,
    "editable": false,
    "nbgrader": {
     "cell_type": "code",
     "checksum": "351cabd43690bfffe8836e05be24a94f",
     "grade": false,
     "grade_id": "cell-c745cecbb6d870c8",
     "locked": true,
     "schema_version": 3,
     "solution": false,
     "task": false
    }
   },
   "outputs": [
    {
     "data": {
      "image/png": "[encoded data removed]",
      "text/plain": [
       "<Figure size 288x288 with 1 Axes>"
      ]
     },
     "metadata": {
      "needs_background": "light"
     },
     "output_type": "display_data"
    }
   ],
   "source": [
    "matrixToPlot(A)\n",
    "plt.xlim(-8, 8)\n",
    "plt.ylim(-8, 8)\n",
    "plt.show()"
   ]
  },
  {
   "cell_type": "markdown",
   "metadata": {
    "deletable": false,
    "editable": false,
    "nbgrader": {
     "cell_type": "markdown",
     "checksum": "45abe938ff8d277b4779fc504567aad4",
     "grade": false,
     "grade_id": "cell-b68adf5ba2ce9f49",
     "locked": true,
     "schema_version": 3,
     "solution": false,
     "task": false
    }
   },
   "source": [
    "## Singular values, error images and compression ratio\n",
    "\n",
    " - Reconstruct image using the first r singular values of the SVD\n",
    " - Calculate the data compression ratio for each of the images\n",
    " - The name of the images are test_svd1.png and test_svd.png"
   ]
  },
  {
   "cell_type": "code",
   "execution_count": 17,
   "metadata": {
    "deletable": false,
    "editable": false,
    "nbgrader": {
     "cell_type": "code",
     "checksum": "9e6d1d6f64aee98932685cb38b6e94e4",
     "grade": false,
     "grade_id": "cell-1d865dfbb291fab8",
     "locked": true,
     "schema_version": 3,
     "solution": false,
     "task": false
    }
   },
   "outputs": [
    {
     "data": {
      "text/plain": [
       "<matplotlib.image.AxesImage at 0x7fc942d89c50>"
      ]
     },
     "execution_count": 17,
     "metadata": {},
     "output_type": "execute_result"
    },
    {
     "data": {
      "image/png": "[encoded data removed]",
      "text/plain": [
       "<Figure size 648x432 with 1 Axes>"
      ]
     },
     "metadata": {
      "needs_background": "light"
     },
     "output_type": "display_data"
    }
   ],
   "source": [
    "img = Image.open('test_svd1.png').convert('LA')\n",
    "plt.figure(figsize=(9, 6))\n",
    "plt.imshow(img)"
   ]
  },
  {
   "cell_type": "code",
   "execution_count": 18,
   "metadata": {
    "deletable": false,
    "nbgrader": {
     "cell_type": "code",
     "checksum": "d2d7220b783bf1c85672690dc8e67227",
     "grade": false,
     "grade_id": "cell-b5b9f79ca6158cdb",
     "locked": false,
     "schema_version": 3,
     "solution": true,
     "task": false
    }
   },
   "outputs": [],
   "source": [
    "# Convert the image to a numpy matrix\n",
    "def raw_image_to_matrix(path):\n",
    "    '''\n",
    "    # convert image to grayscale\n",
    "    # convert to numpy array\n",
    "    # Reshape according to orginal image dimensions\n",
    "    \n",
    "    path: the path to the image\n",
    "    return: final version of the image matrix (band=0)\n",
    "    '''\n",
    "    # YOUR CODE HERE\n",
    "    raise NotImplementedError()"
   ]
  },
  {
   "cell_type": "code",
   "execution_count": 19,
   "metadata": {
    "deletable": false,
    "editable": false,
    "nbgrader": {
     "cell_type": "code",
     "checksum": "163ad05a32d2efa9d8888cd5a4a997f3",
     "grade": true,
     "grade_id": "cell-9b293a82d1ad8b74",
     "locked": true,
     "points": 1,
     "schema_version": 3,
     "solution": false,
     "task": false
    }
   },
   "outputs": [
    {
     "ename": "NotImplementedError",
     "evalue": "",
     "output_type": "error",
     "traceback": [
      "\u001b[0;31m---------------------------------------------------------------------------\u001b[0m",
      "\u001b[0;31mNotImplementedError\u001b[0m                       Traceback (most recent call last)",
      "\u001b[0;32m<ipython-input-19-5887517d0cc6>\u001b[0m in \u001b[0;36m<module>\u001b[0;34m\u001b[0m\n\u001b[0;32m----> 1\u001b[0;31m \u001b[0ml\u001b[0m \u001b[0;34m=\u001b[0m \u001b[0mraw_image_to_matrix\u001b[0m\u001b[0;34m(\u001b[0m\u001b[0;34m'test_svd.jpg'\u001b[0m\u001b[0;34m)\u001b[0m\u001b[0;34m\u001b[0m\u001b[0;34m\u001b[0m\u001b[0m\n\u001b[0m\u001b[1;32m      2\u001b[0m \u001b[0;31m### BEGIN HIDDEN TESTS\u001b[0m\u001b[0;34m\u001b[0m\u001b[0;34m\u001b[0m\u001b[0;34m\u001b[0m\u001b[0m\n\u001b[1;32m      3\u001b[0m \u001b[0mimg\u001b[0m \u001b[0;34m=\u001b[0m \u001b[0mImage\u001b[0m\u001b[0;34m.\u001b[0m\u001b[0mopen\u001b[0m\u001b[0;34m(\u001b[0m\u001b[0;34m'test_svd.jpg'\u001b[0m\u001b[0;34m)\u001b[0m\u001b[0;34m\u001b[0m\u001b[0;34m\u001b[0m\u001b[0m\n\u001b[1;32m      4\u001b[0m \u001b[0mimg\u001b[0m \u001b[0;34m=\u001b[0m \u001b[0mimg\u001b[0m\u001b[0;34m.\u001b[0m\u001b[0mconvert\u001b[0m\u001b[0;34m(\u001b[0m\u001b[0;34m'LA'\u001b[0m\u001b[0;34m)\u001b[0m\u001b[0;34m\u001b[0m\u001b[0;34m\u001b[0m\u001b[0m\n\u001b[1;32m      5\u001b[0m \u001b[0mimgmat\u001b[0m \u001b[0;34m=\u001b[0m \u001b[0mnp\u001b[0m\u001b[0;34m.\u001b[0m\u001b[0marray\u001b[0m\u001b[0;34m(\u001b[0m\u001b[0mlist\u001b[0m\u001b[0;34m(\u001b[0m\u001b[0mimg\u001b[0m\u001b[0;34m.\u001b[0m\u001b[0mgetdata\u001b[0m\u001b[0;34m(\u001b[0m\u001b[0mband\u001b[0m\u001b[0;34m=\u001b[0m\u001b[0;36m0\u001b[0m\u001b[0;34m)\u001b[0m\u001b[0;34m)\u001b[0m\u001b[0;34m,\u001b[0m \u001b[0mfloat\u001b[0m\u001b[0;34m)\u001b[0m\u001b[0;34m\u001b[0m\u001b[0;34m\u001b[0m\u001b[0m\n",
      "\u001b[0;32m<ipython-input-18-854d0d2db8cb>\u001b[0m in \u001b[0;36mraw_image_to_matrix\u001b[0;34m(path)\u001b[0m\n\u001b[1;32m     10\u001b[0m     '''\n\u001b[1;32m     11\u001b[0m     \u001b[0;31m# YOUR CODE HERE\u001b[0m\u001b[0;34m\u001b[0m\u001b[0;34m\u001b[0m\u001b[0;34m\u001b[0m\u001b[0m\n\u001b[0;32m---> 12\u001b[0;31m     \u001b[0;32mraise\u001b[0m \u001b[0mNotImplementedError\u001b[0m\u001b[0;34m(\u001b[0m\u001b[0;34m)\u001b[0m\u001b[0;34m\u001b[0m\u001b[0;34m\u001b[0m\u001b[0m\n\u001b[0m",
      "\u001b[0;31mNotImplementedError\u001b[0m: "
     ]
    }
   ],
   "source": [
    "l = raw_image_to_matrix('test_svd.jpg')\n",
    "### BEGIN HIDDEN TESTS\n",
    "img = Image.open('test_svd.jpg')\n",
    "img = img.convert('LA')\n",
    "imgmat = np.array(list(img.getdata(band=0)), float)\n",
    "imgmat.shape = (img.size[1], img.size[0])\n",
    "imgmat = np.matrix(imgmat)\n",
    "assert np.array_equal(np.array(l),np.array(imgmat))\n",
    "### END HIDDEN TESTS"
   ]
  },
  {
   "cell_type": "code",
   "execution_count": 20,
   "metadata": {
    "deletable": false,
    "editable": false,
    "nbgrader": {
     "cell_type": "code",
     "checksum": "16ceb4fa2434d2b21a158b6c3586b3bf",
     "grade": false,
     "grade_id": "cell-027bc80eee3f229d",
     "locked": true,
     "schema_version": 3,
     "solution": false,
     "task": false
    }
   },
   "outputs": [],
   "source": [
    "def compression_ratio(i, m, n):\n",
    "    comp_bytes = i * (m + n) + i\n",
    "    compression = (comp_bytes / (m * n)) * 100\n",
    "    return compression * 100"
   ]
  },
  {
   "cell_type": "code",
   "execution_count": 21,
   "metadata": {
    "deletable": false,
    "nbgrader": {
     "cell_type": "code",
     "checksum": "b2035d1fdbb3caea7b9bf97a0eccfa30",
     "grade": false,
     "grade_id": "cell-f3c57ed24ba78bea",
     "locked": false,
     "schema_version": 3,
     "solution": true,
     "task": false
    }
   },
   "outputs": [],
   "source": [
    "def image_reconstruction(imgmat):\n",
    "    # sigma has all singular values of the img\n",
    "    U, sigma, V = find_svd(imgmat)\n",
    "\n",
    "    # dimensions of the matrix\n",
    "    m = float(imgmat.shape[0])\n",
    "    n = float(imgmat.shape[1])\n",
    "    reconstructions = []\n",
    "    for i in range(5, 56, 10):\n",
    "        # Reconstruct image from the U, sigma, V matrices.\n",
    "        \n",
    "        \n",
    "        # YOUR CODE HERE\n",
    "        raise NotImplementedError()\n",
    "        \n",
    "        \n",
    "        cr = compression_ratio(i, m, n)\n",
    "\n",
    "        fig = plt.figure(figsize=(12, 6))\n",
    "        fig.subplots_adjust(hspace=0.4, wspace=0.4)\n",
    "\n",
    "        plt.subplot(1, 2, 1)\n",
    "        plt.imshow(reconstimg, cmap='gray')\n",
    "        title = \"r = %s\" % i\n",
    "        plt.title(title)\n",
    "\n",
    "        plt.subplot(1, 2, 2)\n",
    "        errorimg = imgmat - reconstimg\n",
    "        plt.imshow(errorimg, cmap='gray')\n",
    "        title = \"error image for r = %s\" % i\n",
    "        plt.title(title)\n",
    "\n",
    "        plt.show()\n",
    "\n",
    "        print(\"Compression ratio: %.2f\" %cr + str('%'))\n",
    "        print('')\n",
    "    return reconstructions"
   ]
  },
  {
   "cell_type": "code",
   "execution_count": 22,
   "metadata": {
    "deletable": false,
    "editable": false,
    "nbgrader": {
     "cell_type": "code",
     "checksum": "8e8f04800c429b551776bc4e840b1120",
     "grade": true,
     "grade_id": "cell-1fcad3f74398ea37",
     "locked": true,
     "points": 2,
     "schema_version": 3,
     "solution": false,
     "task": false
    }
   },
   "outputs": [
    {
     "ename": "NotImplementedError",
     "evalue": "",
     "output_type": "error",
     "traceback": [
      "\u001b[0;31m---------------------------------------------------------------------------\u001b[0m",
      "\u001b[0;31mNotImplementedError\u001b[0m                       Traceback (most recent call last)",
      "\u001b[0;32m<ipython-input-22-e2191f279567>\u001b[0m in \u001b[0;36m<module>\u001b[0;34m\u001b[0m\n\u001b[0;32m----> 1\u001b[0;31m \u001b[0ml\u001b[0m \u001b[0;34m=\u001b[0m \u001b[0mraw_image_to_matrix\u001b[0m\u001b[0;34m(\u001b[0m\u001b[0;34m'test_svd.jpg'\u001b[0m\u001b[0;34m)\u001b[0m\u001b[0;34m\u001b[0m\u001b[0;34m\u001b[0m\u001b[0m\n\u001b[0m\u001b[1;32m      2\u001b[0m \u001b[0ml\u001b[0m \u001b[0;34m=\u001b[0m \u001b[0mimage_reconstruction\u001b[0m\u001b[0;34m(\u001b[0m\u001b[0ml\u001b[0m\u001b[0;34m)\u001b[0m\u001b[0;34m\u001b[0m\u001b[0;34m\u001b[0m\u001b[0m\n\u001b[1;32m      3\u001b[0m \u001b[0;34m\u001b[0m\u001b[0m\n\u001b[1;32m      4\u001b[0m \u001b[0ml1\u001b[0m \u001b[0;34m=\u001b[0m \u001b[0mraw_image_to_matrix\u001b[0m\u001b[0;34m(\u001b[0m\u001b[0;34m'test_svd1.png'\u001b[0m\u001b[0;34m)\u001b[0m\u001b[0;34m\u001b[0m\u001b[0;34m\u001b[0m\u001b[0m\n\u001b[1;32m      5\u001b[0m \u001b[0ml1\u001b[0m \u001b[0;34m=\u001b[0m \u001b[0mimage_reconstruction\u001b[0m\u001b[0;34m(\u001b[0m\u001b[0ml1\u001b[0m\u001b[0;34m)\u001b[0m\u001b[0;34m\u001b[0m\u001b[0;34m\u001b[0m\u001b[0m\n",
      "\u001b[0;32m<ipython-input-18-854d0d2db8cb>\u001b[0m in \u001b[0;36mraw_image_to_matrix\u001b[0;34m(path)\u001b[0m\n\u001b[1;32m     10\u001b[0m     '''\n\u001b[1;32m     11\u001b[0m     \u001b[0;31m# YOUR CODE HERE\u001b[0m\u001b[0;34m\u001b[0m\u001b[0;34m\u001b[0m\u001b[0;34m\u001b[0m\u001b[0m\n\u001b[0;32m---> 12\u001b[0;31m     \u001b[0;32mraise\u001b[0m \u001b[0mNotImplementedError\u001b[0m\u001b[0;34m(\u001b[0m\u001b[0;34m)\u001b[0m\u001b[0;34m\u001b[0m\u001b[0;34m\u001b[0m\u001b[0m\n\u001b[0m",
      "\u001b[0;31mNotImplementedError\u001b[0m: "
     ]
    }
   ],
   "source": [
    "l = raw_image_to_matrix('test_svd.jpg')\n",
    "l = image_reconstruction(l)\n",
    "\n",
    "l1 = raw_image_to_matrix('test_svd1.png')\n",
    "l1 = image_reconstruction(l1)\n",
    "\n",
    "#The hidden test cases will check the proper reconstruction of the given images\n",
    "#you will also be able to see the outputs\n",
    "\n",
    "### BEGIN HIDDEN TESTS\n",
    "img = Image.open('test_svd.jpg')\n",
    "img = img.convert('LA')\n",
    "imgmat = np.array(list(img.getdata(band=0)), float)\n",
    "imgmat.shape = (img.size[1], img.size[0])\n",
    "imgmat = np.matrix(imgmat)\n",
    "U, sigma, V = np.linalg.svd(imgmat)\n",
    "answers = []\n",
    "\n",
    "\n",
    "img1 = Image.open('test_svd1.png')\n",
    "img1 = img1.convert('LA')\n",
    "imgmat1 = np.array(list(img1.getdata(band=0)), float)\n",
    "imgmat1.shape = (img1.size[1], img1.size[0])\n",
    "imgmat1 = np.matrix(imgmat1)\n",
    "U1, sigma1, V1 = np.linalg.svd(imgmat1)\n",
    "answers1 = []\n",
    "for i in range(5, 56, 10):\n",
    "    # Reconstruct image from the U, sigma, V matrices.\n",
    "    reconstimg = np.matrix(U[:, :i]) * np.diag(sigma[:i]) * np.matrix(V[:i, :])\n",
    "    answers.append(reconstimg)\n",
    "    reconstimg1 = np.matrix(U1[:, :i]) * np.diag(sigma1[:i]) * np.matrix(V1[:i, :])\n",
    "    answers1.append(reconstimg1)\n",
    "    \n",
    "assert np.array_equal(np.array(answers), np.array(l))\n",
    "assert np.array_equal(np.array(answers1), np.array(l1))\n",
    "### END HIDDEN TESTS"
   ]
  },
  {
   "cell_type": "code",
   "execution_count": null,
   "metadata": {},
   "outputs": [],
   "source": []
  }
 ],
 "metadata": {
  "kernelspec": {
   "display_name": "Python 3",
   "language": "python",
   "name": "python3"
  },
  "language_info": {
   "codemirror_mode": {
    "name": "ipython",
    "version": 3
   },
   "file_extension": ".py",
   "mimetype": "text/x-python",
   "name": "python",
   "nbconvert_exporter": "python",
   "pygments_lexer": "ipython3",
   "version": "3.7.6"
  }
 },
 "nbformat": 4,
 "nbformat_minor": 4
}
